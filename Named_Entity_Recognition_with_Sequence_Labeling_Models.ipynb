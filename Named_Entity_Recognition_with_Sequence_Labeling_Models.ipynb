{
  "nbformat": 4,
  "nbformat_minor": 0,
  "metadata": {
    "colab": {
      "name": "Named Entity Recognition with Sequence Labeling Models.ipynb",
      "provenance": [],
      "collapsed_sections": []
    },
    "kernelspec": {
      "name": "python3",
      "display_name": "Python 3"
    }
  },
  "cells": [
    {
      "cell_type": "markdown",
      "metadata": {
        "id": "ZNdFlbLJoUXM"
      },
      "source": [
        "# Project 2: Named Entity Recognition (NER) with Sequence Labeling Models\n"
      ]
    },
    {
      "cell_type": "markdown",
      "metadata": {
        "id": "871f2XhgtoYX"
      },
      "source": [
        "Altria Wang and Johann Lee"
      ]
    },
    {
      "cell_type": "markdown",
      "metadata": {
        "id": "iguUiw0mor52"
      },
      "source": [
        "# **Introduction** 🔎\n",
        "\n",
        "---\n",
        "\n",
        "The given dataset is from CoNLL-2003 ([Sang et al](https://arxiv.org/pdf/cs/0306050v1.pdf)) dataset. We will develop a Hidden Markov Model (with Viterbi) and a Maximum Entropy Markov Model to identify these named entities automatically. We will treat this as a **sequence-tagging task**: for each token in the input text, assign one of the following 5 labels: **ORG** (Organization), **PER** (Person), **LOC** (Location), **MISC** (Miscellaneous), and **O** (Not Named Entity). "
      ]
    },
    {
      "cell_type": "markdown",
      "metadata": {
        "id": "7iP63fHj5saG"
      },
      "source": [
        "# **Part 1: Dataset** 📈"
      ]
    },
    {
      "cell_type": "markdown",
      "metadata": {
        "id": "pljkH2ow5U9x"
      },
      "source": [
        "Data from https://www.kaggle.com/c/cs4740-fa21-p2/"
      ]
    },
    {
      "cell_type": "code",
      "metadata": {
        "id": "c3dQChuccqfN",
        "colab": {
          "base_uri": "https://localhost:8080/"
        },
        "outputId": "e70cab66-39aa-49af-b600-daa3a8099183"
      },
      "source": [
        "from google.colab import drive\n",
        "import os\n",
        "drive.mount('/content/drive', force_remount=True)"
      ],
      "execution_count": null,
      "outputs": [
        {
          "output_type": "stream",
          "name": "stdout",
          "text": [
            "Mounted at /content/drive\n"
          ]
        }
      ]
    },
    {
      "cell_type": "code",
      "metadata": {
        "id": "uFXI7NRHn1Cc"
      },
      "source": [
        "import json\n",
        "import numpy as np\n",
        "\n",
        "# TODO: please change the line below with your drive organization\n",
        "path = os.path.join(os.getcwd(), \"drive\", \"MyDrive\", \"nlp_proj2\")\n",
        "\n",
        "with open(os.path.join(path,'train.json'), 'r') as f:\n",
        "     train = json.loads(f.read())\n",
        "\n",
        "with open(os.path.join(path,'test.json'), 'r') as f:\n",
        "     test = json.loads(f.read())\n",
        "\n"
      ],
      "execution_count": null,
      "outputs": []
    },
    {
      "cell_type": "code",
      "metadata": {
        "id": "UKpK-VFYFAab"
      },
      "source": [
        "import json\n",
        "import numpy as np\n",
        "with open('train.json', 'r') as f:\n",
        "     train = json.loads(f.read())\n",
        "\n",
        "with open('test.json', 'r') as f:\n",
        "     test = json.loads(f.read())"
      ],
      "execution_count": null,
      "outputs": []
    },
    {
      "cell_type": "markdown",
      "metadata": {
        "id": "zfjKFeE_7T7C"
      },
      "source": [
        "The following 4 fields are (each is a nested list): \n",
        "  - **'text'** - actual input tokens\n",
        "  - **'NER'** - the token-level entity tag (ORG/PER/LOC/MISC/O) where **O is used to denote tokens that are not part of any named entity**\n",
        "  - **'POS'** - the part of speech tag (will be handy for feature engineering of the MEMM model)\n",
        "  - **'index'** - index of the token in the dataset"
      ]
    },
    {
      "cell_type": "markdown",
      "metadata": {
        "id": "cradDk-37G8L"
      },
      "source": [
        "Let's take a look at a sample sentence from the dataset!"
      ]
    },
    {
      "cell_type": "code",
      "metadata": {
        "id": "PvvRSlhb6sAR"
      },
      "source": [
        "print(train['text'][15])\n",
        "print(train['index'][15])\n",
        "print(train['POS'][15])\n",
        "print(train['NER'][15])"
      ],
      "execution_count": null,
      "outputs": []
    },
    {
      "cell_type": "markdown",
      "metadata": {
        "id": "sO7go9ivDusU"
      },
      "source": [
        "### **Q1: Initial Data Observations**"
      ]
    },
    {
      "cell_type": "code",
      "metadata": {
        "colab": {
          "base_uri": "https://localhost:8080/",
          "height": 300
        },
        "id": "GzG5M4HsEiYr",
        "outputId": "c0682572-60c8-4567-b254-03519a113fbe"
      },
      "source": [
        "import pandas as pd\n",
        "import numpy as np\n",
        "df_describe = pd.DataFrame(len(n) for n in train['text'])\n",
        "df_describe.describe()"
      ],
      "execution_count": null,
      "outputs": [
        {
          "output_type": "execute_result",
          "data": {
            "text/html": [
              "<div>\n",
              "<style scoped>\n",
              "    .dataframe tbody tr th:only-of-type {\n",
              "        vertical-align: middle;\n",
              "    }\n",
              "\n",
              "    .dataframe tbody tr th {\n",
              "        vertical-align: top;\n",
              "    }\n",
              "\n",
              "    .dataframe thead th {\n",
              "        text-align: right;\n",
              "    }\n",
              "</style>\n",
              "<table border=\"1\" class=\"dataframe\">\n",
              "  <thead>\n",
              "    <tr style=\"text-align: right;\">\n",
              "      <th></th>\n",
              "      <th>0</th>\n",
              "    </tr>\n",
              "  </thead>\n",
              "  <tbody>\n",
              "    <tr>\n",
              "      <th>count</th>\n",
              "      <td>756.000000</td>\n",
              "    </tr>\n",
              "    <tr>\n",
              "      <th>mean</th>\n",
              "      <td>214.736772</td>\n",
              "    </tr>\n",
              "    <tr>\n",
              "      <th>std</th>\n",
              "      <td>164.921786</td>\n",
              "    </tr>\n",
              "    <tr>\n",
              "      <th>min</th>\n",
              "      <td>24.000000</td>\n",
              "    </tr>\n",
              "    <tr>\n",
              "      <th>25%</th>\n",
              "      <td>101.000000</td>\n",
              "    </tr>\n",
              "    <tr>\n",
              "      <th>50%</th>\n",
              "      <td>177.000000</td>\n",
              "    </tr>\n",
              "    <tr>\n",
              "      <th>75%</th>\n",
              "      <td>263.000000</td>\n",
              "    </tr>\n",
              "    <tr>\n",
              "      <th>max</th>\n",
              "      <td>1335.000000</td>\n",
              "    </tr>\n",
              "  </tbody>\n",
              "</table>\n",
              "</div>"
            ],
            "text/plain": [
              "                 0\n",
              "count   756.000000\n",
              "mean    214.736772\n",
              "std     164.921786\n",
              "min      24.000000\n",
              "25%     101.000000\n",
              "50%     177.000000\n",
              "75%     263.000000\n",
              "max    1335.000000"
            ]
          },
          "metadata": {},
          "execution_count": 25
        }
      ]
    },
    {
      "cell_type": "code",
      "metadata": {
        "id": "KdlsKlCIJ3xP",
        "colab": {
          "base_uri": "https://localhost:8080/",
          "height": 572
        },
        "outputId": "fed4a77a-1136-448c-9fe1-dd17d85dd399"
      },
      "source": [
        "from nltk import *\n",
        "def append_lst(data):\n",
        "  appended_list = []\n",
        "  for document in data:\n",
        "   for items in document:\n",
        "     appended_list.append(items)\n",
        "  return appended_list\n",
        "\n",
        "def append_lst_no_o(data):\n",
        "  appended_list_no_o = []\n",
        "  for document in data:\n",
        "   for items in document:\n",
        "     if items != \"O\":\n",
        "      appended_list_no_o.append(items)\n",
        "  return appended_list_no_o\n",
        "\n",
        "\n",
        "new_list = append_lst(train['NER'])\n",
        "new_list_no_o = append_lst_no_o(train['NER'])\n",
        "freq_list_word = FreqDist(new_list)\n",
        "freq_list_no_o = FreqDist(new_list_no_o)\n",
        "freq_list_word.plot(5)\n",
        "freq_list_no_o.plot(10)"
      ],
      "execution_count": null,
      "outputs": [
        {
          "output_type": "display_data",
          "data": {
            "image/png": "[encoded data removed]",
            "text/plain": [
              "<Figure size 432x288 with 1 Axes>"
            ]
          },
          "metadata": {
            "needs_background": "light"
          }
        },
        {
          "output_type": "display_data",
          "data": {
            "image/png": "[encoded data removed]",
            "text/plain": [
              "<Figure size 432x288 with 1 Axes>"
            ]
          },
          "metadata": {
            "needs_background": "light"
          }
        }
      ]
    },
    {
      "cell_type": "markdown",
      "metadata": {
        "id": "4NYvfchqqBf6"
      },
      "source": [
        "# **Part 2: Hidden Markov Model** "
      ]
    },
    {
      "cell_type": "markdown",
      "metadata": {
        "id": "-jUVJwSaE1tI"
      },
      "source": [
        "## **Unknown Word Handling**\n",
        "---"
      ]
    },
    {
      "cell_type": "code",
      "metadata": {
        "id": "44Bja4eQEMJR"
      },
      "source": [
        "# # Implement unknown word handling here! You may do this any way that you please\n",
        "def handle_unknown(tokens):\n",
        "  tokens_handled = tokens\n",
        "  seen_tokens = []\n",
        "  for i, token_set in enumerate(tokens):\n",
        "    for j, token in enumerate(token_set):\n",
        "      if token not in seen_tokens:\n",
        "        seen_tokens.append(token)\n",
        "        tokens_handled[i][j] = '<unk>'\n",
        "        # print('working')\n",
        "\n",
        "  return tokens_handled"
      ],
      "execution_count": null,
      "outputs": []
    },
    {
      "cell_type": "code",
      "metadata": {
        "colab": {
          "base_uri": "https://localhost:8080/"
        },
        "id": "lohEFg-bQOcz",
        "outputId": "995a3f44-d4d9-45b4-9d63-5b6fcefd54c8"
      },
      "source": [
        "print(handle_unknown([['Cornell',\n",
        " 'University',\n",
        " 'is',\n",
        " 'located',\n",
        " 'in',\n",
        " 'Ithaca',\n",
        " 'by',\n",
        " 'Ezra',\n",
        " 'Cornell']]))"
      ],
      "execution_count": null,
      "outputs": [
        {
          "output_type": "stream",
          "name": "stdout",
          "text": [
            "[['<unk>', '<unk>', '<unk>', '<unk>', '<unk>', '<unk>', '<unk>', '<unk>', 'Cornell']]\n"
          ]
        }
      ]
    },
    {
      "cell_type": "markdown",
      "metadata": {
        "id": "aLuTFUV5FA3m"
      },
      "source": [
        "## **HMM Implementation**\n",
        "\n",
        "---\n",
        "\n",
        "We have broken down the HMM into its three components: the transition matrix, the emission (i.e., lexical generation, observation) matrix, and the starting state probabilities."
      ]
    },
    {
      "cell_type": "code",
      "metadata": {
        "id": "Zgw9Ckv1SnzZ"
      },
      "source": [
        "def find_unique(dataset, has_s):\n",
        "  unique_set = []\n",
        "  if has_s: unique_set.append(\"<s>\")\n",
        "  for cur_set in dataset: \n",
        "    for element in cur_set:\n",
        "      if element not in unique_set:\n",
        "        unique_set.append(element)\n",
        "  return unique_set"
      ],
      "execution_count": null,
      "outputs": []
    },
    {
      "cell_type": "code",
      "metadata": {
        "id": "x7Jl87vJv1hy"
      },
      "source": [
        "# states are NER categories\n",
        "# transition probs are bigram probs\n",
        "# observation probs: p(word | category)"
      ],
      "execution_count": null,
      "outputs": []
    },
    {
      "cell_type": "code",
      "metadata": {
        "id": "RfzBwkYZ7kzW"
      },
      "source": [
        "# transition probability P(ti|ti-1)\n",
        "def trans(labels, unique_labels, k):\n",
        "  # initialize\n",
        "  count_pairs = {} # count(ti-1, ti)\n",
        "  count_labels = {} # count(ti-1)\n",
        "  for label1 in unique_labels:\n",
        "    count_labels[label1] = k\n",
        "    count_pairs[label1] = {}\n",
        "    for label2 in unique_labels:\n",
        "      count_pairs[label1][label2] = k\n",
        "\n",
        "  # get counts\n",
        "  for label_set in labels:\n",
        "    is_first = True\n",
        "    for i in range(len(label_set)):\n",
        "      # set cur & prev\n",
        "      cur_label = label_set[i]\n",
        "      if is_first: \n",
        "        is_first = False\n",
        "        prev_label = \"<s>\"\n",
        "        count_labels[\"<s>\"] += 1\n",
        "      else:\n",
        "        prev_label = label_set[i-1]\n",
        "      \n",
        "      # increment counts\n",
        "      count_pairs[prev_label][cur_label] += 1\n",
        "      count_labels[cur_label] += 1\n",
        "\n",
        "  # get prob P(ti|ti-1) = count(ti-1, ti) / count(ti-1)\n",
        "  tran_probs = {}\n",
        "  size = len(unique_labels)\n",
        "  for label1 in unique_labels:\n",
        "    tran_probs[label1] = {}\n",
        "    for label2 in unique_labels:\n",
        "      tran_probs[label1][label2] = count_pairs[label1][label2] / (count_labels[label1]+k*size)\n",
        "  \n",
        "  return tran_probs\n",
        "\n",
        "# emission probability P(wi|ti)\n",
        "def emi(tokens, labels, unique_tokens, unique_labels, k):\n",
        "  # initialize\n",
        "  count_pairs = {} # count(ti, wi)\n",
        "  count_labels = {} # count(ti)\n",
        "  for label in unique_labels:\n",
        "    count_pairs[label] = {}\n",
        "    count_labels[label] = k\n",
        "    for token in unique_tokens:\n",
        "      count_pairs[label][token] = 0 # k\n",
        "\n",
        "  # get counts\n",
        "  for token_set, label_set in zip(tokens, labels):\n",
        "    for token, label in zip(token_set, label_set):\n",
        "      count_pairs[label][token] += 1\n",
        "      count_labels[label] += 1\n",
        "  \n",
        "  # get prob P(wi|ti) = count(ti, wi) / count(ti)\n",
        "  emi_probs = {}\n",
        "  size = len(unique_tokens)\n",
        "  # size = len(unique_labels)\n",
        "  for label in unique_labels:\n",
        "    emi_probs[label] = {}\n",
        "    for token in unique_tokens:\n",
        "      emi_probs[label][token] = count_pairs[label][token] / (count_labels[label]+k*size)\n",
        "  \n",
        "  return emi_probs\n",
        "\n",
        "# start state probability P(ti|<s>)\n",
        "def start(labels, unique_labels, k):\n",
        "  # initialize\n",
        "  start_probs = {} # count(ti|<s>)\n",
        "  s_count = 0 # count(<s>)\n",
        "  for label in unique_labels:\n",
        "    start_probs[label] = k\n",
        "  \n",
        "  # get counts\n",
        "  for label_set in labels:\n",
        "    for label in label_set:\n",
        "      start_probs[label] += 1\n",
        "      s_count += 1\n",
        "      break\n",
        "  \n",
        "  # get probs P(ti|<s>) = count(ti|<s>) / count(<s>)\n",
        "  size = len(unique_labels)\n",
        "  for label in unique_labels:\n",
        "    start_probs[label] /= (s_count+k*size)\n",
        "  \n",
        "  return start_probs"
      ],
      "execution_count": null,
      "outputs": []
    },
    {
      "cell_type": "code",
      "metadata": {
        "id": "N9Ju-VB-7lti"
      },
      "source": [
        "import copy\n",
        "def build_hmm_new(tokenss, labels, k, has_handle_unknown):\n",
        "  hmm = {}\n",
        "  tokens = copy.deepcopy(tokenss) # so we get a new one and not a pointer\n",
        "  if has_handle_unknown: tokens = handle_unknown(tokens)\n",
        "  unique_labels = find_unique(labels, True) # labels need <s>\n",
        "  unique_tokens = find_unique(tokens, False) # tokens start at 1st word and don't need <s>\n",
        "\n",
        "  hmm['transition'] = trans(labels, unique_labels, k)\n",
        "  hmm['emission'] = emi(tokens, labels, unique_tokens, unique_labels, k)\n",
        "  hmm['start_state'] = start(labels, unique_labels, k)\n",
        "  return hmm"
      ],
      "execution_count": null,
      "outputs": []
    },
    {
      "cell_type": "markdown",
      "metadata": {
        "id": "Pbw3RTHPI31j"
      },
      "source": [
        "\n",
        "\n",
        "## **Viterbi Implementation**\n",
        "\n",
        "---\n",
        "\n",
        "Maps a sequence of tokens (observation) to a sequence of labels via the Viterbi algorithm."
      ]
    },
    {
      "cell_type": "code",
      "metadata": {
        "id": "mCVC4Ni83sHG"
      },
      "source": [
        "def give_max(tag_i, t, c, scores, hmm, true_tags, word_t):\n",
        "  max_score = 0\n",
        "  index = 0\n",
        "  for j in range(c):\n",
        "    tag_j = true_tags[j]\n",
        "    cur_score = scores[j, t-1]*hmm['transition'][tag_j][tag_i] * hmm['emission'][tag_i][word_t]\n",
        "    if max_score < cur_score: \n",
        "      max_score = cur_score\n",
        "      index = j\n",
        "  return max_score, index"
      ],
      "execution_count": null,
      "outputs": []
    },
    {
      "cell_type": "code",
      "metadata": {
        "id": "C_q3U42lI3LQ"
      },
      "source": [
        "# takes in the hmm build above and an observation: list of tokens\n",
        "# and returns the appropriate named entity mappings for the tokens\n",
        "def viterbi(hmm, obs):\n",
        "  \n",
        "  # setup\n",
        "  true_tags = list(hmm['transition'])\n",
        "  if \"<s>\" in true_tags: true_tags.remove('<s>')   # ignore '<s>' and '<unk>'\n",
        "  if \"<unk>\" in true_tags: true_tags.remove('<unk>')\n",
        "  c = len(true_tags)\n",
        "  n = len(obs)\n",
        "  scores = np.zeros(shape=(c,n))\n",
        "  backpointer = np.zeros(shape=(c,n))\n",
        "\n",
        "  # initialization\n",
        "  for i in range(c): \n",
        "    tag_i = true_tags[i] \n",
        "    if obs[0] in hmm['emission'][tag_i].keys():\n",
        "      scores[i,0] = hmm['transition']['<s>'][tag_i] * hmm['emission'][tag_i][obs[0]]\n",
        "    else: \n",
        "      scores[i,0] = hmm['transition']['<s>'][tag_i] * hmm['emission'][tag_i]['<unk>']\n",
        "    backpointer[i,0] = 0 \n",
        "\n",
        "  # iteration\n",
        "  for t in range(1,n): \n",
        "    for i in range(c): \n",
        "      tag_i = true_tags[i]\n",
        "      if tag_i == '<s>' or tag_i == '<unk>': continue # skip <s> & <unk>\n",
        "      if obs[t] in hmm['emission'][tag_i].keys():\n",
        "        scores[i,t], max_index = give_max(tag_i, t, c, scores, hmm, true_tags, obs[t])\n",
        "      else:\n",
        "        scores[i,t], max_index = give_max(tag_i, t, c, scores, hmm, true_tags, '<unk>')\n",
        "      backpointer[i,t] = max_index\n",
        "  # print(scores)\n",
        "  \n",
        "  #identify sequence\n",
        "  sequence_index = []\n",
        "  max_score = 0\n",
        "  max_score_index = 0\n",
        "  for j in range(c): \n",
        "    if max_score < scores[j,n-1]:\n",
        "      max_score = scores[j,n-1]\n",
        "      max_score_index = j\n",
        "  sequence_index.append(max_score_index) # T(n) on slide 27\n",
        "\n",
        "  for i in range(n-2, -1, -1): # on slide: for i = n-1 to 1 do\n",
        "    sequence_index.insert(0, int(backpointer[sequence_index[0], i+1])) # T(i) = BPTR(T(i+1), i+1)\n",
        "\n",
        "  sequence = []\n",
        "  for ind in sequence_index:\n",
        "    sequence.append(true_tags[ind])  # turning indices back to tags\n",
        "  return sequence"
      ],
      "execution_count": null,
      "outputs": []
    },
    {
      "cell_type": "markdown",
      "metadata": {
        "id": "2J8NdM_V_A4u"
      },
      "source": [
        "## **Validation**\n",
        "\n",
        "---\n"
      ]
    },
    {
      "cell_type": "code",
      "metadata": {
        "id": "iTF-kbf0PMzG"
      },
      "source": [
        "from sklearn.model_selection import train_test_split\n",
        "training_set_text, validation_set_text = train_test_split(train['text'], test_size = 189,train_size = 567, random_state = False)\n",
        "training_set_ner, validation_set_ner  = train_test_split(train['NER'], test_size = 189,train_size = 567, random_state = False)\n",
        "training_set_pos, validation_set_pos = train_test_split(train['POS'], test_size = 189,train_size = 567, random_state = False)\n",
        "training_set_index, validation_set_index= train_test_split(train['index'],test_size = 189,train_size = 567, random_state = False)\n",
        "validation_dataset = validation_set_text + validation_set_ner + validation_set_pos + validation_set_index"
      ],
      "execution_count": null,
      "outputs": []
    },
    {
      "cell_type": "code",
      "metadata": {
        "id": "lt2Jt6fj88Y9"
      },
      "source": [
        "my_hmm = build_hmm_new(training_set_text, training_set_ner, 0.001, True)"
      ],
      "execution_count": null,
      "outputs": []
    },
    {
      "cell_type": "code",
      "metadata": {
        "id": "Ie6NXgJAKOEM",
        "colab": {
          "base_uri": "https://localhost:8080/"
        },
        "outputId": "9a689a8a-72d9-41db-e778-e757eb1eece0"
      },
      "source": [
        "# here's a samplle observations that you can use to test your code\n",
        "obs_1 = ['Cornell',\n",
        " 'University',\n",
        " 'is',\n",
        " 'located',\n",
        " 'in',\n",
        " 'Ithaca',\n",
        " 'and',\n",
        " 'was',\n",
        " 'founded',\n",
        " 'by',\n",
        " 'Ezra',\n",
        " 'Cornell']\n",
        "\n",
        "viterbi(obs=obs_1, hmm=my_hmm)"
      ],
      "execution_count": null,
      "outputs": [
        {
          "output_type": "execute_result",
          "data": {
            "text/plain": [
              "['ORG', 'ORG', 'O', 'O', 'O', 'O', 'O', 'O', 'O', 'O', 'O', 'O']"
            ]
          },
          "metadata": {},
          "execution_count": 85
        }
      ]
    },
    {
      "cell_type": "markdown",
      "metadata": {
        "id": "oTAhu_TG1V0R"
      },
      "source": [
        "After getting a sequence of NER labels for the sequence of tokens from our Viterbi algorithm implementation, we need to convert the sequence of tokens, associated token indices and NER labels into a format which can be used to calculate **Entity Level Mean F1**. \n",
        "\n",
        "We do this by finding the starting and ending indices of the spans representing each entity (as given in the corpus) and adding it to a list that is associated with the label with which the spans are labelled. To score our validation data, we can get a dictionary format from the function **format_output_labels** of both the predicted and true label sequences, and use the two dictionaries as input to the **mean_f1** function.\n",
        "\n",
        "NOTE: We do **not** include the spans of the tokens labelled as \"O\" in the formatted dictionary output."
      ]
    },
    {
      "cell_type": "code",
      "metadata": {
        "id": "HdOOQdN7D2rv"
      },
      "source": [
        "def format_output_labels(token_labels, token_indices):\n",
        "    \"\"\"\n",
        "    Returns a dictionary that has the labels (LOC, ORG, MISC or PER) as the keys, \n",
        "    with the associated value being the list of entities predicted to be of that key label. \n",
        "    Each entity is specified by its starting and ending position indicated in [token_indices].\n",
        "\n",
        "    Eg. if [token_labels] = [\"ORG\", \"ORG\", \"O\", \"O\", \"ORG\"]\n",
        "           [token_indices] = [15, 16, 17, 18, 19]\n",
        "        then dictionary returned is \n",
        "        {'LOC': [], 'MISC': [], 'ORG': [(15, 16), (19, 19)], 'PER': []}\n",
        "\n",
        "    :parameter token_labels: A list of token labels (eg. PER, LOC, ORG or MISC).\n",
        "    :type token_labels: List[String]\n",
        "    :parameter token_indices: A list of token indices (taken from the dataset) \n",
        "                              corresponding to the labels in [token_labels].\n",
        "    :type token_indices: List[int]\n",
        "    \"\"\"\n",
        "    label_dict = {\"LOC\":[], \"MISC\":[], \"ORG\":[], \"PER\":[]}\n",
        "    prev_label = token_labels[0]\n",
        "    start = token_indices[0]\n",
        "    for idx, label in enumerate(token_labels):\n",
        "      if prev_label != label:\n",
        "        # print(len(token_indices), idx)\n",
        "        end = token_indices[idx-1]\n",
        "        if prev_label != \"O\":\n",
        "            # print(prev_label) # added in, delete later\n",
        "            label_dict[prev_label].append((start, end))\n",
        "        start = token_indices[idx]\n",
        "      prev_label = label\n",
        "      if idx == len(token_labels) - 1:\n",
        "        if prev_label != \"O\":\n",
        "            label_dict[prev_label].append((start, token_indices[idx]))\n",
        "    return label_dict"
      ],
      "execution_count": null,
      "outputs": []
    },
    {
      "cell_type": "code",
      "metadata": {
        "id": "lfjVJLNhL_fc"
      },
      "source": [
        "# Code for mean F1\n",
        "\n",
        "import numpy as np\n",
        "\n",
        "def mean_f1(y_pred_dict, y_true_dict):\n",
        "    \"\"\" \n",
        "    Calculates the entity-level mean F1 score given the actual/true and \n",
        "    predicted span labels.\n",
        "    :parameter y_pred_dict: A dictionary containing predicted labels as keys and the \n",
        "                            list of associated span labels as the corresponding\n",
        "                            values.\n",
        "    :type y_pred_dict: Dict<key [String] : value List[Tuple]>\n",
        "    :parameter y_true_dict: A dictionary containing true labels as keys and the \n",
        "                            list of associated span labels as the corresponding\n",
        "                            values.\n",
        "    :type y_true_dict: Dict<key [String] : value List[Tuple]>\n",
        "\n",
        "    Implementation modified from original by author @shonenkov at\n",
        "    https://www.kaggle.com/shonenkov/competition-metrics.\n",
        "    \"\"\"\n",
        "    \n",
        "    F1_lst = []\n",
        "    for key in y_true_dict:\n",
        "        TP, FN, FP = 0, 0, 0\n",
        "        num_correct, num_true = 0, 0\n",
        "        preds = y_pred_dict[key]\n",
        "        trues = y_true_dict[key]\n",
        "        for true in trues:\n",
        "            num_true += 1\n",
        "            if true in preds:\n",
        "                num_correct += 1\n",
        "            else:\n",
        "                continue\n",
        "        num_pred = len(preds)\n",
        "        if num_true != 0:\n",
        "            if num_pred != 0 and num_correct != 0:\n",
        "                R = num_correct / num_true\n",
        "                P = num_correct / num_pred\n",
        "                F1 = 2*P*R / (P + R)\n",
        "            else:\n",
        "                F1 = 0      # either no predictions or no correct predictions\n",
        "        else:\n",
        "            continue\n",
        "        F1_lst.append(F1)\n",
        "    return np.mean(F1_lst)"
      ],
      "execution_count": null,
      "outputs": []
    },
    {
      "cell_type": "code",
      "metadata": {
        "id": "0Lmx9z5WGAfq"
      },
      "source": [
        "# Evaluate/validate your model here\n",
        "def find_f1(validation_set_text, validation_set_ner, validation_set_index, hmm):\n",
        "  count = 0\n",
        "  meanf1 = 0\n",
        "  for cur_text, cur_ner, cur_indices in zip(validation_set_text, validation_set_ner, validation_set_index):\n",
        "    cur_pred = viterbi(obs = cur_text, hmm = hmm)\n",
        "    \n",
        "    # print('pred', len(cur_pred), 'ner', len(cur_ner), 'indices', len(cur_indices), 'text',len(cur_text))\n",
        "    y_true_dict = format_output_labels(cur_ner, cur_indices)\n",
        "    y_pred_dict = format_output_labels(cur_pred, cur_indices)\n",
        "\n",
        "    meanf1 += mean_f1(y_pred_dict, y_true_dict)\n",
        "    count += 1\n",
        "  meanf1 /= count\n",
        "  return meanf1"
      ],
      "execution_count": null,
      "outputs": []
    },
    {
      "cell_type": "code",
      "metadata": {
        "colab": {
          "base_uri": "https://localhost:8080/"
        },
        "id": "zVBhKeBNh_Iq",
        "outputId": "cb21d51e-856b-473c-b49e-ab69768d205b"
      },
      "source": [
        "find_f1(validation_set_text,validation_set_ner,validation_set_index,my_hmm)"
      ],
      "execution_count": null,
      "outputs": [
        {
          "output_type": "execute_result",
          "data": {
            "text/plain": [
              "0.4540337100708901"
            ]
          },
          "metadata": {},
          "execution_count": 130
        }
      ]
    },
    {
      "cell_type": "code",
      "metadata": {
        "id": "A6dnI-wqcnIf"
      },
      "source": [
        "# Code for mean F1\n",
        "\n",
        "import numpy as np\n",
        "\n",
        "def mean_f1PR(y_pred_dict, y_true_dict):\n",
        "  \n",
        "    F1_lst = []\n",
        "    P_lst = []\n",
        "    R_lst = []\n",
        "    A_lst = []\n",
        "    for key in y_true_dict:\n",
        "        TP, FN, FP = 0, 0, 0\n",
        "        num_correct, num_true = 0, 0\n",
        "        preds = y_pred_dict[key]\n",
        "        trues = y_true_dict[key]\n",
        "        for true in trues:\n",
        "            num_true += 1\n",
        "            if true in preds:\n",
        "                num_correct += 1\n",
        "            else:\n",
        "                continue\n",
        "        num_pred = len(preds)\n",
        "        if num_true != 0:\n",
        "            if num_pred != 0 and num_correct != 0:\n",
        "                R = num_correct / num_true\n",
        "                P = num_correct / num_pred\n",
        "                F1 = 2*P*R / (P + R)\n",
        "            else:\n",
        "                F1 = 0      # either no predictions or no correct predictions\n",
        "                R = 0\n",
        "                P = 0\n",
        "        else:\n",
        "            continue\n",
        "        F1_lst.append(F1)\n",
        "        P_lst.append(P)\n",
        "        R_lst.append(R)\n",
        "    return np.mean(P_lst), np.mean(R_lst), np.mean(F1_lst)"
      ],
      "execution_count": null,
      "outputs": []
    },
    {
      "cell_type": "code",
      "metadata": {
        "id": "ulYP2c4McrSZ"
      },
      "source": [
        "# Evaluate/validate your model here\n",
        "def find_f1PR(cur_hmm):\n",
        "  count = 0\n",
        "  mean_acc = 0\n",
        "  meanf1 = 0\n",
        "  mean_pre = 0\n",
        "  mean_rec = 0\n",
        "  for cur_text, cur_ner, cur_indices in zip(validation_set_text, validation_set_ner, validation_set_index):\n",
        "    wrong = 0\n",
        "    # if count > 1: break\n",
        "    cur_pred = viterbi(obs = cur_text, hmm = cur_hmm)\n",
        "    \n",
        "    for ner, pred in zip(cur_ner, cur_pred):\n",
        "      if ner != pred: wrong +=1\n",
        "    mean_acc += 1-wrong/len(cur_ner)\n",
        "    y_true_dict = format_output_labels(cur_ner, cur_indices)\n",
        "    y_pred_dict = format_output_labels(cur_pred, cur_indices)\n",
        "\n",
        "    cur_pre, cur_rec, cur_f1 = mean_f1PR(y_pred_dict, y_true_dict)\n",
        "    \n",
        "    mean_pre += cur_pre\n",
        "    mean_rec += cur_rec\n",
        "    meanf1 += cur_f1\n",
        "    count += 1\n",
        "  meanf1 /= count\n",
        "  print(\"mean_acc\", mean_acc/count)\n",
        "  print(\"mean_pre\", mean_pre/count)\n",
        "  print(\"mean_rec\", mean_rec/count)\n",
        "  return meanf1"
      ],
      "execution_count": null,
      "outputs": []
    },
    {
      "cell_type": "code",
      "metadata": {
        "colab": {
          "base_uri": "https://localhost:8080/"
        },
        "id": "ac2wuOm0c3y_",
        "outputId": "8224f351-224b-4bf2-8fca-da62bdd8c863"
      },
      "source": [
        "find_f1PR(my_hmm)"
      ],
      "execution_count": null,
      "outputs": [
        {
          "output_type": "stream",
          "name": "stdout",
          "text": [
            "mean_acc 0.8901056645626279\n",
            "mean_pre 0.6286847942866465\n",
            "mean_rec 0.41082728151990844\n"
          ]
        },
        {
          "output_type": "execute_result",
          "data": {
            "text/plain": [
              "0.4540337100708901"
            ]
          },
          "metadata": {},
          "execution_count": 135
        }
      ]
    },
    {
      "cell_type": "code",
      "metadata": {
        "id": "c-_C0Nh-gRjz"
      },
      "source": [
        "# finding the best smoothing k\n",
        "f1s = []\n",
        "for i in np.arange(0.0001, 0.01, 0.0005):\n",
        "  my_hmms = build_hmm_new(training_set_text, training_set_ner, i, True)\n",
        "  cur_f1 = find_f1(validation_set_text, validation_set_ner, validation_set_index, my_hmms)\n",
        "  # print(i, cur_f1)\n",
        "  f1s.append((i, cur_f1))\n",
        "f1s"
      ],
      "execution_count": null,
      "outputs": []
    },
    {
      "cell_type": "markdown",
      "metadata": {
        "id": "31e3sMHZrLWP"
      },
      "source": [
        "# **Part 3: Maximum Entropy Markov Model** \n",
        "\n",
        "---\n",
        "\n",
        "We use the classifier to learn a probability $P(t_i|features)$. We replace the entire *lexical generation probability * transition probability*  calculation – $P (w_i|t_i) ∗ P (t_i|t_{i−1)} – $ in the HMM with it then apply the **Viterbi algorithm**. "
      ]
    },
    {
      "cell_type": "markdown",
      "metadata": {
        "id": "Pd2PwG4wYkhQ"
      },
      "source": [
        "### **Feature Engineering**\n",
        "---"
      ]
    },
    {
      "cell_type": "code",
      "metadata": {
        "id": "zsHFBYWcbaFM"
      },
      "source": [
        "# Get the feature: previous label\n",
        "start_ner = '<start>'\n",
        "def prev_ner (ner):\n",
        "  prev_ner = []\n",
        "  prev_ner.append(start_ner)\n",
        "  for item in ner:\n",
        "    prev_ner.append(item)\n",
        "  return (prev_ner[0:-1])"
      ],
      "execution_count": null,
      "outputs": []
    },
    {
      "cell_type": "code",
      "metadata": {
        "id": "oWR6_SufYYIU"
      },
      "source": [
        "def change(text, ner, prev,pos):\n",
        "  our_feature = []\n",
        "  for doc, doc_ner, prevs,tags in zip(text, ner, prev,pos):\n",
        "    # doc_prev = prev_ner(doc_ner)\n",
        "    for word, ner, prev, tag in zip(doc, doc_ner, prevs, tags):\n",
        "      item = word, ner, prev, tag \n",
        "      our_feature.append(item)\n",
        "  return our_feature"
      ],
      "execution_count": null,
      "outputs": []
    },
    {
      "cell_type": "code",
      "metadata": {
        "colab": {
          "base_uri": "https://localhost:8080/"
        },
        "id": "Rzuj9k8BiT3n",
        "outputId": "1cf04f80-59d4-44f3-8fc9-008db0a17d33"
      },
      "source": [
        "training_set_ner[0][:5]"
      ],
      "execution_count": null,
      "outputs": [
        {
          "output_type": "execute_result",
          "data": {
            "text/plain": [
              "['O', 'O', 'PER', 'PER', 'O']"
            ]
          },
          "metadata": {},
          "execution_count": 18
        }
      ]
    },
    {
      "cell_type": "code",
      "metadata": {
        "id": "TRoNVtmp2ZCB"
      },
      "source": [
        "import copy\n",
        "training_set_prev_ner = copy.deepcopy(training_set_ner)\n",
        "for doc in training_set_prev_ner:\n",
        "  doc.insert(0, '<s>')\n",
        "  doc = doc[:-1]"
      ],
      "execution_count": null,
      "outputs": []
    },
    {
      "cell_type": "code",
      "metadata": {
        "id": "eTI3w9m1aVCN"
      },
      "source": [
        "list_for_corp = [\"ltd.\", \"ltd\", \"associates\", \"inc.\", \"Inc\",\"inc\", \"co.\", \"co\", \"corp.\", \"corp\", \"University\", \"Bank\", \"Commission\", \"Institute\", \"Airlines\"]"
      ],
      "execution_count": null,
      "outputs": []
    },
    {
      "cell_type": "code",
      "metadata": {
        "id": "Esw7eIdBZ8oN"
      },
      "source": [
        "def if_comp(word, list):\n",
        "  if word in list:\n",
        "    return True\n",
        "  else:\n",
        "    return False"
      ],
      "execution_count": null,
      "outputs": []
    },
    {
      "cell_type": "code",
      "metadata": {
        "colab": {
          "base_uri": "https://localhost:8080/"
        },
        "id": "miToYT-mbQyK",
        "outputId": "f34d21fa-5e71-4ce5-c18c-17f99916982d"
      },
      "source": [
        "if_comp(\"inc\", list_for_corp)"
      ],
      "execution_count": null,
      "outputs": [
        {
          "output_type": "execute_result",
          "data": {
            "text/plain": [
              "True"
            ]
          },
          "metadata": {},
          "execution_count": 50
        }
      ]
    },
    {
      "cell_type": "code",
      "metadata": {
        "id": "iAR5IjDxY4GJ"
      },
      "source": [
        "def get_features(word, previous_ner, tag, isUpper, isUpperAll):\n",
        "\tfeatures = {} \n",
        "\tfeatures['current_word'] = word\n",
        "\tfeatures['previous_ner'] = previous_ner\n",
        "\tfeatures['current_tag'] = tag\n",
        "\tfeatures['first_capitalization'] = isUpper #word[0].isupper()\n",
        "\tfeatures['all_capitalization'] = isUpperAll\n",
        "\tfeatures[\"Corporate-Suffix\"] = if_comp(word, list_for_corp)\n",
        "\n",
        "\treturn features\n",
        "\n",
        "featureset_correct_format = [(get_features(word, previous_ner, tag, word[0].isupper(), word.isupper()), ner) for (word, ner, previous_ner, tag) in change(training_set_text, training_set_ner, training_set_prev_ner, training_set_pos)]\n",
        "# featureset_correct_format = [(get_features(word, previous_ner, tag), ner) for (word, ner, previous_ner, tag) in (change(training_set_text, training_set_ner, training_set_pos))]\n",
        "# training_feature = labeled_featuresets\n",
        "training_feature = featureset_correct_format"
      ],
      "execution_count": null,
      "outputs": []
    },
    {
      "cell_type": "code",
      "metadata": {
        "colab": {
          "base_uri": "https://localhost:8080/"
        },
        "id": "a9FcesAi1-mh",
        "outputId": "6610c1f7-df67-48f1-ee59-1e0a26bf5fef"
      },
      "source": [
        "training_feature[0]"
      ],
      "execution_count": null,
      "outputs": [
        {
          "output_type": "execute_result",
          "data": {
            "text/plain": [
              "({'Corporate-Suffix': False,\n",
              "  'all_capitalization': True,\n",
              "  'current_tag': 'NNP',\n",
              "  'current_word': 'ATHLETICS',\n",
              "  'first_capitalization': True,\n",
              "  'previous_ner': '<s>'},\n",
              " 'O')"
            ]
          },
          "metadata": {},
          "execution_count": 54
        }
      ]
    },
    {
      "cell_type": "markdown",
      "metadata": {
        "id": "jCkP4A3IYwit"
      },
      "source": [
        "### **MEMM Implementation**\n",
        "---"
      ]
    },
    {
      "cell_type": "code",
      "metadata": {
        "id": "EB8D-n4VsirC"
      },
      "source": [
        "def flatten_list(input):\n",
        "  flat_list = []\n",
        "  for text in input:\n",
        "    for item in text:\n",
        "      flat_list.append(item)\n",
        "  return flat_list"
      ],
      "execution_count": null,
      "outputs": []
    },
    {
      "cell_type": "code",
      "metadata": {
        "colab": {
          "base_uri": "https://localhost:8080/"
        },
        "id": "wwez-m1rstxw",
        "outputId": "aecefedf-03dd-40fc-f940-f9d1a0edfcd0"
      },
      "source": [
        "def unique(list):\n",
        "    x = np.array(list)\n",
        "    return (np.unique(x)).tolist()\n",
        "\n",
        "unique(flatten_list(training_set_ner))"
      ],
      "execution_count": null,
      "outputs": [
        {
          "output_type": "execute_result",
          "data": {
            "text/plain": [
              "['LOC', 'MISC', 'O', 'ORG', 'PER']"
            ]
          },
          "metadata": {},
          "execution_count": 57
        }
      ]
    },
    {
      "cell_type": "code",
      "metadata": {
        "colab": {
          "base_uri": "https://localhost:8080/"
        },
        "id": "lDjhM0t9afks",
        "outputId": "329187bb-82be-4e3b-ed31-21a11aa2c26c"
      },
      "source": [
        "import nltk\n",
        "from nltk import *\n",
        "from nltk.classify import MaxentClassifier\n",
        "import pickle\n",
        "\n",
        "f = open(\"my_classifier.pickle\", \"wb\")\n",
        "\n",
        "maxent = MaxentClassifier.train(training_feature, max_iter=30)\n",
        "\n",
        "pickle.dump(maxent, f)\n",
        "\n",
        "f.close()"
      ],
      "execution_count": null,
      "outputs": [
        {
          "output_type": "stream",
          "name": "stdout",
          "text": [
            "  ==> Training (30 iterations)\n",
            "\n",
            "      Iteration    Log Likelihood    Accuracy\n",
            "      ---------------------------------------\n",
            "             1          -1.60944        0.056\n",
            "             2          -0.20997        0.832\n",
            "             3          -0.16674        0.910\n",
            "             4          -0.14154        0.964\n",
            "             5          -0.12597        0.969\n",
            "             6          -0.11512        0.976\n",
            "             7          -0.10686        0.977\n",
            "             8          -0.10018        0.979\n",
            "             9          -0.09457        0.981\n",
            "            10          -0.08974        0.982\n",
            "            11          -0.08550        0.983\n",
            "            12          -0.08173        0.984\n",
            "            13          -0.07834        0.986\n",
            "            14          -0.07528        0.986\n",
            "            15          -0.07250        0.987\n",
            "            16          -0.06996        0.987\n",
            "            17          -0.06762        0.988\n",
            "            18          -0.06547        0.988\n",
            "            19          -0.06348        0.988\n",
            "            20          -0.06164        0.989\n",
            "            21          -0.05992        0.989\n",
            "            22          -0.05832        0.989\n",
            "            23          -0.05683        0.989\n",
            "            24          -0.05543        0.989\n",
            "            25          -0.05412        0.989\n",
            "            26          -0.05289        0.989\n",
            "            27          -0.05173        0.989\n",
            "            28          -0.05064        0.990\n",
            "            29          -0.04961        0.990\n",
            "         Final          -0.04863        0.990\n"
          ]
        }
      ]
    },
    {
      "cell_type": "code",
      "metadata": {
        "id": "T1BO1FOWWg9K"
      },
      "source": [
        "# to use next time so we don't have to re-train\n",
        "f = open('my_classifier.pickle', 'rb')\n",
        "maxent = pickle.load(f)\n",
        "f.close()"
      ],
      "execution_count": null,
      "outputs": []
    },
    {
      "cell_type": "code",
      "metadata": {
        "id": "-NWev4X8EaEh"
      },
      "source": [
        "# takes in the hmm build above and an observation: list of tokens\n",
        "# and returns the appropriate named entity mappings for the tokens\n",
        "def viterbi_mmem(mmem, text, pos):\n",
        "  \n",
        "  # setup\n",
        "  true_tags = [\"LOC\", \"MISC\", \"ORG\", \"PER\", \"O\"]\n",
        "  # if \"<s>\" in true_tags: true_tags.remove('<s>')\n",
        "  # if \"<unk>\" in true_tags: true_tags.remove('<unk>')  # ignore '<s>' and '<unk>'\n",
        "  c = len(true_tags)\n",
        "  n = len(text)\n",
        "  scores = np.zeros(shape=(c,n))\n",
        "  backpointer = np.zeros(shape=(c,n))\n",
        "\n",
        "  # initialization\n",
        "  for i in range(c):\n",
        "    tag_i = true_tags[i]\n",
        "    prev_ner = \"<s>\"\n",
        "    cur_word = text[0]\n",
        "    cur_tag = pos[0]\n",
        "    cur_features = get_features(cur_word, prev_ner, cur_tag, cur_word[0].isupper(), cur_word.isupper())\n",
        "    prob_dist = mmem.prob_classify(cur_features)\n",
        "    scores[i,0] = float(prob_dist.prob(tag_i))\n",
        "    backpointer[i,0] = 0\n",
        "\n",
        "  # iteration\n",
        "  for t in range(1,n): \n",
        "    predictions = {} # for word\n",
        "    for i in range(c): \n",
        "      cur_word = text[t]\n",
        "      cur_tag = pos[t]\n",
        "      prev_ner = true_tags[i] # loop through all possible previous ners\n",
        "      cur_features = get_features(cur_word, prev_ner, cur_tag, cur_word[0].isupper(), cur_word.isupper())\n",
        "      prob_dist = mmem.prob_classify(cur_features) # given left word and its features, prob of right words\n",
        "     \n",
        "     # predictions maps right ner -> [prob of each left ner]\n",
        "      for tag in true_tags:\n",
        "        if tag in predictions: predictions[tag].append(prob_dist.prob(tag))\n",
        "        else: predictions[tag] = [prob_dist.prob(tag)]\n",
        "\n",
        "    for i in range(c):\n",
        "      max_score = 0\n",
        "      max_score_ner = 0\n",
        "      tag_i = true_tags[i]\n",
        "      for j in range(c):\n",
        "        tag_j = true_tags[j]\n",
        "        cur_score = scores[j, t-1]*predictions[tag_i][j] # for 1 right which ith left is largest left\n",
        "        if max_score < cur_score: \n",
        "          max_score = cur_score\n",
        "          max_score_ner = j\n",
        "      scores[i,t] = max_score\n",
        "      backpointer[i,t] = max_score_ner\n",
        "  \n",
        "  #identify sequence, the rest is the same as the viterbi above\n",
        "  sequence_index = []\n",
        "  max_score = 0\n",
        "  max_score_index = 0\n",
        "  for j in range(c): \n",
        "    if max_score < scores[j,n-1]:\n",
        "      max_score = scores[j,n-1]\n",
        "      max_score_index = j\n",
        "  sequence_index.append(max_score_index) # T(n) on slide 27\n",
        "\n",
        "  for i in range(n-2, -1, -1): # for i = n-1 to 1 do\n",
        "    sequence_index.insert(0, int(backpointer[sequence_index[0], i+1])) # T(i) = BPTR(T(i+1), i+1)\n",
        "\n",
        "  sequence = []\n",
        "  for ind in sequence_index:\n",
        "    sequence.append(true_tags[ind])  \n",
        "  return sequence"
      ],
      "execution_count": null,
      "outputs": []
    },
    {
      "cell_type": "markdown",
      "metadata": {
        "id": "vvoeAVMlX4gp"
      },
      "source": [
        "### **Validation**\n",
        "---\n"
      ]
    },
    {
      "cell_type": "code",
      "metadata": {
        "id": "mrUfCUBTHung"
      },
      "source": [
        "# Evaluate/validate your model here\n",
        "def find_f1_mmem(validation_set_text, validation_set_pos, validation_set_ner, validation_set_index, mmem):\n",
        "  count = 0\n",
        "  meanf1 = 0\n",
        "  for cur_text, cur_pos, cur_ner, cur_indices in zip(validation_set_text, validation_set_pos, validation_set_ner, validation_set_index):\n",
        "    cur_pred = viterbi_mmem(mmem = mmem, text = cur_text, pos = cur_pos)\n",
        "    \n",
        "    y_true_dict = format_output_labels(cur_ner, cur_indices)\n",
        "    y_pred_dict = format_output_labels(cur_pred, cur_indices)\n",
        "\n",
        "    meanf1 += mean_f1(y_pred_dict, y_true_dict)\n",
        "    count += 1\n",
        "    if count>=0:break\n",
        "  meanf1 /= count\n",
        "  return meanf1\n"
      ],
      "execution_count": null,
      "outputs": []
    },
    {
      "cell_type": "code",
      "metadata": {
        "colab": {
          "base_uri": "https://localhost:8080/"
        },
        "id": "MMmfTH35IkOU",
        "outputId": "4a0b9672-54aa-4df7-d8af-e10565ae65e6"
      },
      "source": [
        "find_f1_mmem(validation_set_text, validation_set_pos, validation_set_ner, validation_set_index, maxent)"
      ],
      "execution_count": null,
      "outputs": [
        {
          "output_type": "execute_result",
          "data": {
            "text/plain": [
              "0.9097222222222222"
            ]
          },
          "metadata": {},
          "execution_count": 198
        }
      ]
    },
    {
      "cell_type": "markdown",
      "metadata": {
        "id": "TpugxBD7RBy1"
      },
      "source": [
        "# **Part 5: Kaggle Submission**\n",
        "---"
      ]
    },
    {
      "cell_type": "code",
      "metadata": {
        "id": "VJhHHYQF5FFD"
      },
      "source": [
        "# MEMM\n",
        "list_for_pred = []\n",
        "list_for_index = []\n",
        "for cur_text, cur_pos, cur_indices in zip(test['text'], test['POS'], test['index']):\n",
        "  cur_pred = viterbi_mmem(mmem=maxent, text=cur_text, pos=cur_pos)\n",
        "  # for items in cur_pred:\n",
        "  #   if items != 'O':\n",
        "  list_for_pred.append(cur_pred)\n",
        "  list_for_index.append(cur_indices)\n",
        "# print(list_for_pred[0])\n",
        "# list_for_index[0]"
      ],
      "execution_count": null,
      "outputs": []
    },
    {
      "cell_type": "code",
      "metadata": {
        "id": "mUQ_JF9dTtWE"
      },
      "source": [
        "# HMM\n",
        "\n",
        "hmm_list_for_pred = []\n",
        "hmm_list_for_index = []\n",
        "for cur_text, cur_indices in zip(test['text'], test['index']):\n",
        "  cur_pred = viterbi(hmm=my_hmm, obs=cur_text)\n",
        "  hmm_list_for_pred.append(cur_pred)\n",
        "  hmm_list_for_index.append(cur_indices)"
      ],
      "execution_count": null,
      "outputs": []
    },
    {
      "cell_type": "code",
      "metadata": {
        "id": "893l9j77ETFM"
      },
      "source": [
        "import csv\n",
        "\n",
        "def create_submission(output_filepath, token_labels, token_inds):\n",
        "    \"\"\"\n",
        "    :parameter output_filepath: The full path (including file name) of the output file, \n",
        "                                with extension .csv\n",
        "    :type output_filepath: [String]\n",
        "    :parameter token_labels: A list of token labels (eg. PER, LOC, ORG or MISC).\n",
        "    :type token_labels: List[String]\n",
        "    :parameter token_indices: A list of token indices (taken from the dataset) \n",
        "                              corresponding to the labels in [token_labels].\n",
        "    :type token_indices: List[int]\n",
        "    \"\"\"\n",
        "    label_dict = format_output_labels(token_labels, token_inds)\n",
        "    with open(output_filepath, mode='w') as csv_file:\n",
        "        fieldnames = ['Id', 'Expected']\n",
        "\n",
        "        writer = csv.DictWriter(csv_file, fieldnames=fieldnames)\n",
        "        writer.writeheader()\n",
        "        for key in label_dict:\n",
        "            p_string = \" \".join([str(start)+\"-\"+str(end) for start,end in label_dict[key]])\n",
        "            writer.writerow({'Id': key, 'Expected': p_string})"
      ],
      "execution_count": null,
      "outputs": []
    },
    {
      "cell_type": "code",
      "metadata": {
        "id": "LGISbJS2gmSN"
      },
      "source": [
        "flat_pred=flatten_list(list_for_pred)\n",
        "flat_index=flatten_list(list_for_index)"
      ],
      "execution_count": null,
      "outputs": []
    },
    {
      "cell_type": "code",
      "metadata": {
        "id": "tvTclRwv-caX"
      },
      "source": [
        "create_submission(\"memm.csv\", flat_pred, flat_index) #memm"
      ],
      "execution_count": null,
      "outputs": []
    },
    {
      "cell_type": "code",
      "metadata": {
        "id": "QxUJF9UXT5EE"
      },
      "source": [
        "create_submission(\"hmm.csv\", flatten_list(hmm_list_for_pred), flatten_list(hmm_list_for_index))"
      ],
      "execution_count": null,
      "outputs": []
    }
  ]
}