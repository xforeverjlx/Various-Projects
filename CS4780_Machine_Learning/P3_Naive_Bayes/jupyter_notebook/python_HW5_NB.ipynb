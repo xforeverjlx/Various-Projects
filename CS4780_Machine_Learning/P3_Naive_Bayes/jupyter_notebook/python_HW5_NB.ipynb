{
 "cells": [
  {
   "cell_type": "markdown",
   "metadata": {
    "deletable": false,
    "editable": false,
    "nbgrader": {
     "grade": false,
     "locked": true,
     "solution": false
    }
   },
   "source": [
    "<h2>Project 3: Na&iuml;ve Bayes</h2>"
   ]
  },
  {
   "cell_type": "markdown",
   "metadata": {
    "deletable": false,
    "editable": false,
    "nbgrader": {
     "grade": false,
     "locked": true,
     "solution": false
    }
   },
   "source": [
    "<blockquote>\n",
    "    <center>\n",
    "    <img src=\"nb.png\" width=\"200px\" />\n",
    "    </center>\n",
    "      <p><cite><center>\"All models are wrong, but some are useful.\"<br>\n",
    "       -- George E.P. Box\n",
    "      </center></cite></p>\n",
    "</blockquote>"
   ]
  },
  {
   "cell_type": "markdown",
   "metadata": {
    "deletable": false,
    "editable": false,
    "nbgrader": {
     "grade": false,
     "locked": true,
     "solution": false
    }
   },
   "source": [
    "<h3>Introduction</h3>\n",
    "<!--Aðalbrandr-->\n",
    "\n",
    "<p> You recently decided that you want to take the machine learning course at Cornell University. You're super excited to learn ML but are very confused during lectures. You realize that it's because your German professor just throws in German words while explaining concepts and you have no idea what these mean! You could just tell him you don't understand German but you're a proud engineer! There's got to be a better way. Something that doesn't involve communicating because, you know, that's not our forte (just kidding). So, you decide to create a system that detects every time a word is German and translates it for you in the subtitles. In this project, you will just implement the first part of this system using Na&iuml;ve Bayes to predict if a word is German or English. </p>\n",
    "<p>\n",
    "<strong>P3 Deadlines:</strong> \n",
    "The deadline for this project is on <strong>Oct 7 (11:59 pm EST)</strong>. The late deadline is on <strong>Oct 9</strong>.\n",
    "</p>"
   ]
  },
  {
   "cell_type": "markdown",
   "metadata": {
    "deletable": false,
    "editable": false,
    "nbgrader": {
     "grade": false,
     "locked": true,
     "solution": false
    }
   },
   "source": [
    "<h3> English and German words </h3>\n",
    "\n",
    "<p> Take a look at the files <code>english_train.txt</code> and <code>german_train.txt</code>. For example with the unix command <pre>cat german_train.txt</pre> \n",
    "<pre>\n",
    "...\n",
    "bibliothek\n",
    "aufzuhalten\n",
    "maegde\n",
    "rupfen\n",
    "leer\n",
    "merkte\n",
    "sucht\n",
    "launenhaften\n",
    "graeten\n",
    "</pre>\n",
    "\n",
    "The problem with the current file is that the words are in plain text, which makes it hard for a machine learning algorithm to learn anything useful from them. We therefore need to transform them into some vector format, where each word becomes a vector that represents a point in some high dimensional input space. </p>\n",
    "\n",
    "<p>That is exactly what the following Python function <code>language2features</code> does: </p>"
   ]
  },
  {
   "cell_type": "code",
   "execution_count": 11,
   "metadata": {
    "collapsed": true
   },
   "outputs": [],
   "source": [
    "#<GRADED>\n",
    "import numpy as np\n",
    "import sys\n",
    "from cvxpy import *\n",
    "from matplotlib import pyplot as plt\n",
    "import math\n",
    "#</GRADED>\n",
    "\n",
    "%matplotlib inline"
   ]
  },
  {
   "cell_type": "code",
   "execution_count": 3,
   "metadata": {
    "collapsed": true,
    "deletable": false,
    "editable": false,
    "nbgrader": {
     "grade": false,
     "locked": true,
     "solution": false
    }
   },
   "outputs": [],
   "source": [
    "def feature_extraction_letters(word, B):\n",
    "    v = np.zeros(B)\n",
    "    for letter in word:\n",
    "        v[ord(letter) - 97] += 1\n",
    "    return v"
   ]
  },
  {
   "cell_type": "code",
   "execution_count": 4,
   "metadata": {
    "collapsed": true,
    "deletable": false,
    "editable": false,
    "nbgrader": {
     "grade": false,
     "locked": true,
     "solution": false
    }
   },
   "outputs": [],
   "source": [
    "def language2features(filename, B=26, LoadFile=True):\n",
    "    \"\"\"\n",
    "    Output:\n",
    "    X : n feature vectors of dimension B, (nxB)\n",
    "    \"\"\"\n",
    "    if LoadFile:\n",
    "        with open(filename, 'r') as f:\n",
    "            words = [x.rstrip() for x in f.readlines() if len(x) > 0]\n",
    "    else:\n",
    "        words = filename.split('\\n')\n",
    "    n = len(words)\n",
    "    X = np.zeros((n, B))\n",
    "    for i in range(n):\n",
    "        X[i,:] = feature_extraction_letters(words[i].lower(), B)\n",
    "    return X"
   ]
  },
  {
   "cell_type": "markdown",
   "metadata": {
    "deletable": false,
    "editable": false,
    "nbgrader": {
     "grade": false,
     "locked": true,
     "solution": false
    }
   },
   "source": [
    "<p>It reads every word in the given file and converts it into a 26-dimensional feature vector by mapping each letter to a feature. The generated vector is a histogram containing the number of occurrences of each letter in the word.</p> \n",
    "\n",
    "<p>We have provided you with a python function <code>genFeatures</code>, which calls this function, transforms the words into features and loads them into memory. "
   ]
  },
  {
   "cell_type": "code",
   "execution_count": 5,
   "metadata": {
    "collapsed": true,
    "deletable": false,
    "editable": false,
    "nbgrader": {
     "grade": false,
     "locked": true,
     "solution": false
    }
   },
   "outputs": [],
   "source": [
    "def genFeatures(dimension, language2features, file_german, file_english):\n",
    "    \"\"\"\n",
    "    function [x,y]=genFeatures\n",
    "    \n",
    "    This function calls \"language2features.py\" to convert \n",
    "    words into feature vectors and load training data. \n",
    "    \n",
    "    language2features: function that extracts features from language word\n",
    "    dimension: dimensionality of the features\n",
    "    \n",
    "    Output: \n",
    "    x: n feature vectors of dimensionality d [n,d]\n",
    "    y: n labels (-1 = German, +1 = English)\n",
    "    \"\"\"\n",
    "    \n",
    "    # Load in the data\n",
    "    Xgerman = language2features(file_german, B=dimension)\n",
    "    Xenglish = language2features(file_english, B=dimension)\n",
    "    X = np.concatenate([Xgerman, Xenglish])\n",
    "    \n",
    "    # Generate Labels\n",
    "    Y = np.concatenate([-np.ones(len(Xgerman)), np.ones(len(Xenglish))])\n",
    "    \n",
    "    # shuffle data into random order\n",
    "    ii = np.random.permutation([i for i in range(len(Y))])\n",
    "    \n",
    "    return X[ii, :], Y[ii]"
   ]
  },
  {
   "cell_type": "markdown",
   "metadata": {
    "deletable": false,
    "editable": false,
    "nbgrader": {
     "grade": false,
     "locked": true,
     "solution": false
    }
   },
   "source": [
    "You can call the following command to load features and labels of all German and English words."
   ]
  },
  {
   "cell_type": "code",
   "execution_count": 6,
   "metadata": {
    "collapsed": true,
    "nbgrader": {
     "grade": false,
     "locked": false,
     "solution": false
    }
   },
   "outputs": [],
   "source": [
    "X,Y = genFeatures(26, language2features, \"german_train.txt\", \"english_train.txt\")\n",
    "xTe, yTe = genFeatures(26, language2features, \"german_test.txt\", \"english_test.txt\")"
   ]
  },
  {
   "cell_type": "markdown",
   "metadata": {
    "deletable": false,
    "editable": false,
    "nbgrader": {
     "grade": false,
     "locked": true,
     "solution": false
    }
   },
   "source": [
    "<h3> Multinomial Na&iuml;ve Bayes Classifier </h3>\n",
    "\n",
    "<p> The Na&iuml;ve Bayes classifier is a linear classifier based on Bayes Rule. The following questions will ask you to finish these functions in a pre-defined order. <br></p>\n",
    "<p>(a) Estimate the class probability P(Y) in \n",
    "<b><code>naivebayesPY</code></b>\n",
    ". This should return the probability that a sample in the training set is positive or negative, independent of its features.\n",
    "</p>\n",
    "\n"
   ]
  },
  {
   "cell_type": "code",
   "execution_count": 7,
   "metadata": {
    "collapsed": true
   },
   "outputs": [],
   "source": [
    "#<GRADED>\n",
    "def naivebayesPY(x,y):\n",
    "    \"\"\"\n",
    "    function [pos,neg] = naivebayesPY(x,y);\n",
    "\n",
    "    Computation of P(Y)\n",
    "    Input:\n",
    "        x : n input vectors of d dimensions (nxd)\n",
    "        y : n labels (-1 or +1) (nx1)\n",
    "\n",
    "    Output:\n",
    "    pos: probability p(y=1)\n",
    "    neg: probability p(y=-1)\n",
    "    \"\"\"\n",
    "    \n",
    "    \n",
    "    ## TODO 1\n",
    "    pos=0\n",
    "    neg=0\n",
    "    n=y.shape[0]\n",
    "    for i in y:\n",
    "        if i==1:\n",
    "            pos+=1\n",
    "        elif i==-1:\n",
    "            neg+=1\n",
    "    \n",
    "    pos=pos/n\n",
    "    neg=neg/n\n",
    "\n",
    "    ## TODO 1\n",
    "    \n",
    "    return pos, neg\n",
    "\n",
    "\n",
    "#</GRADED>\n",
    "\n",
    "pos,neg = naivebayesPY(X,Y)"
   ]
  },
  {
   "cell_type": "markdown",
   "metadata": {
    "deletable": false,
    "editable": false,
    "nbgrader": {
     "grade": false,
     "locked": true,
     "solution": false
    }
   },
   "source": [
    "<p>(b) Estimate the conditional probabilities P(X|Y) <b>(Maximum Likelihood Estimate)</b> without smoothing in \n",
    "<b><code>naivebayesPXY_mle</code></b>\n",
    ".  Use a <b>multinomial</b> distribution as model. This will return the probability vectors  for all features given a class label.\n",
    "</p> "
   ]
  },
  {
   "cell_type": "code",
   "execution_count": 8,
   "metadata": {
    "collapsed": true
   },
   "outputs": [],
   "source": [
    "#<GRADED>\n",
    "def naivebayesPXY_mle(x,y):\n",
    "    \"\"\"\n",
    "    function [posprob,negprob] = naivebayesPXY(x,y);\n",
    "    \n",
    "    Computation of P(X|Y) -- Maximum Likelihood Estimate\n",
    "    Input:\n",
    "        x : n input vectors of d dimensions (nxd)\n",
    "        y : n labels (-1 or +1) (nx1)\n",
    "    \n",
    "    Output:\n",
    "    posprob: probability vector of p(x|y=1) (1xd)\n",
    "    negprob: probability vector of p(x|y=-1) (1xd)\n",
    "    \"\"\"\n",
    "    \n",
    "    ## TODO 2\n",
    "#     pos_index=[]\n",
    "#     neg_index=[]\n",
    "    \n",
    "#     n,d=x.shape\n",
    "    \n",
    "#     for i in range(n):\n",
    "#         if y[i]==1:\n",
    "#             pos_index.append(i)\n",
    "#         else:\n",
    "#             neg_index.append(i)\n",
    "    \n",
    "#     posprob=np.zeros(d)\n",
    "#     negprob=np.zeros(d)\n",
    "    \n",
    "#     for i in range(d):\n",
    "#         total1=0\n",
    "#         total2=0\n",
    "#         for j in pos_index:\n",
    "#             if x[j,i]!=0:\n",
    "#                 total1=total1+1\n",
    "#         for m in neg_index:\n",
    "#             if x[m,i]!=0:\n",
    "#                 total2=total2+1\n",
    "# #             total2=total2+x[j,i]\n",
    "#         posprob[i]=total1/len(pos_index)\n",
    "#         negprob[i]=total2/len(neg_index)\n",
    "\n",
    "    ## TODO 2\n",
    "\n",
    "    # P(X|Y=1) = P(X and Y=1) / P(Y=1)\n",
    "#     n,d=x.shape\n",
    "    \n",
    "#     posprob=np.zeros(d)\n",
    "#     negprob=np.zeros(d)\n",
    "#     yPosCount = 0\n",
    "#     yNegCount = 0\n",
    "    \n",
    "#     for i in range(n):\n",
    "#         for j in range(d):\n",
    "#             if y[i]==1:\n",
    "# #                 posprob[j]+=1 if x[i,j] != 0 else 0\n",
    "#                 posprob[j]+=x[i,j]\n",
    "#                 yPosCount += 1 \n",
    "#             elif y[i]==-1:\n",
    "# #                 negprob[j]+=1 if x[i,j] != 0 else 0\n",
    "#                 negprob[j]+=x[i,j]\n",
    "#                 yNegCount += 1\n",
    "#     for i in range(d):\n",
    "#         posprob[i]/=yPosCount\n",
    "#         negprob[i]/=yNegCount\n",
    "    \n",
    "    pos_index=np.where(y==1)[0]\n",
    "    neg_index=np.where(y==-1)[0]\n",
    "    \n",
    "    pos_count=np.sum(x[pos_index],axis=0)\n",
    "    neg_count=np.sum(x[neg_index],axis=0)\n",
    "    \n",
    "    posprob=pos_count/np.sum(x[pos_index])\n",
    "    negprob=neg_count/np.sum(x[neg_index])\n",
    "    \n",
    "    return posprob, negprob\n",
    "    \n",
    "    \n",
    "#</GRADED>\n",
    "\n",
    "posprob_mle,negprob_mle = naivebayesPXY_mle(X,Y)\n",
    "# print(posprob_mle,negprob_mle)"
   ]
  },
  {
   "cell_type": "markdown",
   "metadata": {},
   "source": [
    "<p>(c) Estimate the conditional probabilities P(X|Y) <b>(Smoothing with Laplace estimate)</b> in \n",
    "<b><code>naivebayesPXY_smoothing</code></b>\n",
    ".  Use a <b>multinomial</b> distribution as model. This will return the probability vectors  for all features given a class label.\n",
    "</p> "
   ]
  },
  {
   "cell_type": "code",
   "execution_count": 9,
   "metadata": {
    "collapsed": true
   },
   "outputs": [],
   "source": [
    "#<GRADED>\n",
    "def naivebayesPXY_smoothing(x,y):\n",
    "    \"\"\"\n",
    "    function [posprob,negprob] = naivebayesPXY(x,y);\n",
    "    \n",
    "    Computation of P(X|Y) -- Smoothing with Laplace estimate\n",
    "    Input:\n",
    "        x : n input vectors of d dimensions (nxd)\n",
    "        y : n labels (-1 or +1) (nx1)\n",
    "    \n",
    "    Output:\n",
    "    posprob: probability vector of p(x|y=1) (1xd)\n",
    "    negprob: probability vector of p(x|y=-1) (1xd)\n",
    "    \"\"\"\n",
    "  \n",
    "    ## TODO 3\n",
    "#     pos_index=[]\n",
    "#     neg_index=[]\n",
    "    \n",
    "#     n=y.shape[0]\n",
    "#     d=x.shape[1]\n",
    "    \n",
    "#     for i in range(n):\n",
    "#         if y[i]==1:\n",
    "#             pos_index.append(i)\n",
    "#         elif y[i]==-1:\n",
    "#             neg_index.append(i)\n",
    "    \n",
    "#     posprob=np.zeros(d)\n",
    "#     negprob=np.zeros(d)\n",
    "    \n",
    "#     for i in range(d):\n",
    "#         total1=0\n",
    "#         total2=0\n",
    "#         for j in pos_index:\n",
    "# #             total1=total1+x[j,i]\n",
    "#             if x[j,i]!=0:\n",
    "#                 total1=total1+1\n",
    "#         for j in neg_index:\n",
    "# #             total2=total2+x[j,i]\n",
    "#             if x[j,i]!=0:\n",
    "#                 total2=total2+1\n",
    "#         posprob[i]=(total1+1)/(len(pos_index)+2)\n",
    "#         negprob[i]=(total2+1)/(len(neg_index)+2)\n",
    "    \n",
    "    n,d=x.shape\n",
    "\n",
    "    pos_index=np.where(y==1)[0]\n",
    "    neg_index=np.where(y==-1)[0]\n",
    "    \n",
    "    pos_count=np.sum(x[pos_index],axis=0)\n",
    "    neg_count=np.sum(x[neg_index],axis=0)\n",
    "    \n",
    "    posprob=(pos_count+1)/(np.sum(x[pos_index])+d)\n",
    "    negprob=(neg_count+1)/(np.sum(x[neg_index])+d)\n",
    "\n",
    "    ## TODO 3\n",
    "    \n",
    "    return posprob, negprob\n",
    "    \n",
    "    \n",
    "#</GRADED>\n",
    "\n",
    "posprob_smoothing,negprob_smoothing = naivebayesPXY_smoothing(X,Y)"
   ]
  },
  {
   "cell_type": "markdown",
   "metadata": {
    "deletable": false,
    "editable": false,
    "nbgrader": {
     "grade": false,
     "locked": true,
     "solution": false
    }
   },
   "source": [
    "<p>(d) Solve for the log ratio, $\\log\\left(\\frac{P(Y=1 | X = xtest)}{P(Y=-1|X= xtest)}\\right)$, using Bayes Rule. Doing this in log space is important to avoid underflow. Make sure to first log the probabilities and then sum them.\n",
    " Implement this in \n",
    "<b><code>naivebayes</code></b>.\n",
    "</p>\n",
    "\n"
   ]
  },
  {
   "cell_type": "code",
   "execution_count": 12,
   "metadata": {},
   "outputs": [],
   "source": [
    "#<GRADED>\n",
    "def naivebayes(x,y,xtest,naivebayesPXY):\n",
    "    \"\"\"\n",
    "    function logratio = naivebayes(x,y);\n",
    "    \n",
    "    Computation of log P(Y|X=x1) using Bayes Rule\n",
    "    Input:\n",
    "    x : n input vectors of d dimensions (nxd)\n",
    "    y : n labels (-1 or +1)\n",
    "    xtest: input vector of d dimensions (1xd)\n",
    "    naivebayesPXY: input function for getting conditional probabilities (naivebayesPXY_smoothing OR naivebayesPXY_mle)\n",
    "    \n",
    "    Output:\n",
    "    logratio: log (P(Y = 1|X=xtest)/P(Y=-1|X=xtest))\n",
    "    \"\"\"\n",
    "    \n",
    "    ## TODO 4\n",
    "#     posprob, negprob=naivebayesPXY(x, y)\n",
    "    \n",
    "#     pos, neg=naivebayesPY(x, y)\n",
    "    \n",
    "#     result1=posprob.dot(xtest)\n",
    "#     result2=negprob.dot(xtest)\n",
    "    \n",
    "#     log1=np.log(result1*pos)\n",
    "#     log2=np.log(result2*neg)\n",
    "    \n",
    "#     logratio=log1-log2\n",
    "    ## TODO 4\n",
    "#     n,d=x.shape\n",
    "#     posprob, negprob=naivebayesPXY_smoothing(x, y)\n",
    "#     pos, neg=naivebayesPY(x, y)\n",
    "#     logPxypos =0\n",
    "#     logPxyneg=0\n",
    "#     for i in range(d):\n",
    "#         logPxypos+=np.log(posprob[i]*xtest[i])\n",
    "#         logPxyneg += np.log(negprob[i]*xtest[i])\n",
    "#    # logPxypos=np.log(posprob.dot(xtest))\n",
    "#    # logPxyneg=np.log(negprob.dot(xtest))\n",
    "#     logpos=np.log(pos)\n",
    "#     logneg = np.log(neg)\n",
    "    \n",
    "#     logratio=logPxypos+logpos-logPxyneg-logneg\n",
    "\n",
    "    posprob, negprob=naivebayesPXY(x, y)\n",
    "    pos, neg=naivebayesPY(x, y)\n",
    "    \n",
    "    n,d=x.shape\n",
    "    \n",
    "    cond1=np.prod([posprob[i]**int(xtest[i]) for i in range(d)])\n",
    "    cond2=np.prod([negprob[i]**int(xtest[i]) for i in range(d)])\n",
    "    \n",
    "    nom=cond1*pos\n",
    "    denom=cond2*neg\n",
    "    \n",
    "    logratio=math.log(nom/denom)\n",
    "    \n",
    "    \n",
    "    return logratio\n",
    "    \n",
    "#</GRADED>\n",
    "p_smoothing = naivebayes(X,Y,X[0,:], naivebayesPXY_smoothing)\n",
    "p_mle = naivebayes(X,Y,X[0,:], naivebayesPXY_mle)"
   ]
  },
  {
   "cell_type": "code",
   "execution_count": 13,
   "metadata": {},
   "outputs": [
    {
     "data": {
      "text/plain": [
       "1.7706484578017845"
      ]
     },
     "execution_count": 13,
     "metadata": {},
     "output_type": "execute_result"
    }
   ],
   "source": [
    "p_smoothing"
   ]
  },
  {
   "cell_type": "markdown",
   "metadata": {
    "deletable": false,
    "editable": false,
    "nbgrader": {
     "grade": false,
     "locked": true,
     "solution": false
    }
   },
   "source": [
    "<p>(e) Naïve Bayes can also be written as a linear classifier. Implement this in \n",
    "<b><code>naivebayesCL</code></b>."
   ]
  },
  {
   "cell_type": "code",
   "execution_count": 11,
   "metadata": {
    "collapsed": true
   },
   "outputs": [],
   "source": [
    "#<GRADED>\n",
    "def naivebayesCL(x,y,naivebayesPXY):\n",
    "    \"\"\"\n",
    "    function [w,b]=naivebayesCL(x,y);\n",
    "    Implementation of a Naive Bayes classifier\n",
    "    Input:\n",
    "    x : n input vectors of d dimensions (nxd)\n",
    "    y : n labels (-1 or +1)\n",
    "    naivebayesPXY: input function for getting conditional probabilities (naivebayesPXY_smoothing OR naivebayesPXY_mle)\n",
    "\n",
    "    Output:\n",
    "    w : weight vector of d dimensions\n",
    "    b : bias (scalar)\n",
    "    \"\"\"\n",
    "    \n",
    "    n, d = x.shape\n",
    "    ## TODO 5\n",
    "    pos, neg=naivebayesPY(x,y)\n",
    "    \n",
    "    b=np.log(pos)-np.log(neg)\n",
    "    \n",
    "    w=np.zeros(d)\n",
    "    posprob, negprob=naivebayesPXY(x,y)\n",
    "    w=np.log(posprob)-np.log(negprob)\n",
    "    \n",
    "#     print(w.shape)\n",
    "#     print(b)\n",
    "\n",
    "    ## TODO 5\n",
    "    \n",
    "    return w, b\n",
    "\n",
    "\n",
    "#</GRADED>\n",
    "\n",
    "w_smoothing,b_smoothing = naivebayesCL(X,Y, naivebayesPXY_smoothing)\n",
    "w_mle,b_mle = naivebayesCL(X,Y, naivebayesPXY_mle)"
   ]
  },
  {
   "cell_type": "markdown",
   "metadata": {
    "deletable": false,
    "editable": false,
    "nbgrader": {
     "grade": false,
     "locked": true,
     "solution": false
    }
   },
   "source": [
    "<p>(f) Implement \n",
    "<b><code>classifyLinear</code></b>\n",
    " that applies a linear weight vector and bias to a set of input vectors and outputs their predictions.  (You can use your answer from the previous project.)\n",
    " \n",
    " "
   ]
  },
  {
   "cell_type": "code",
   "execution_count": 12,
   "metadata": {},
   "outputs": [
    {
     "name": "stdout",
     "output_type": "stream",
     "text": [
      "Training error (Smoothing with Laplace estimate): 30.38%\n",
      "Training error (Maximum Likelihood Estimate): 25.44%\n",
      "Test error (Smoothing with Laplace estimate): 29.83%\n",
      "Test error (Maximum Likelihood Estimate): 24.00%\n"
     ]
    }
   ],
   "source": [
    "#<GRADED>\n",
    "def classifyLinear(x,w,b=0):\n",
    "    \"\"\"\n",
    "    function preds=classifyLinear(x,w,b);\n",
    "    \n",
    "    Make predictions with a linear classifier\n",
    "    Input:\n",
    "    x : n input vectors of d dimensions (nxd)\n",
    "    w : weight vector of d dimensions\n",
    "    b : bias (optional)\n",
    "    \n",
    "    Output:\n",
    "    preds: predictions\n",
    "    \"\"\"\n",
    "    \n",
    "    ## TODO 6\n",
    "    preds=np.sign(x.dot(w.T)+b)\n",
    "\n",
    "    ## TODO 6\n",
    "    \n",
    "    return preds\n",
    "\n",
    "#</GRADED>\n",
    "\n",
    "print('Training error (Smoothing with Laplace estimate): %.2f%%' % (100 *(classifyLinear(X, w_smoothing, b_smoothing) != Y).mean()))\n",
    "print('Training error (Maximum Likelihood Estimate): %.2f%%' % (100 *(classifyLinear(X, w_mle, b_mle) != Y).mean()))\n",
    "print('Test error (Smoothing with Laplace estimate): %.2f%%' % (100 *(classifyLinear(xTe, w_smoothing, b_smoothing) != yTe).mean()))\n",
    "print('Test error (Maximum Likelihood Estimate): %.2f%%' % (100 *(classifyLinear(xTe, w_mle, b_mle) != yTe).mean()))\n"
   ]
  },
  {
   "cell_type": "markdown",
   "metadata": {
    "deletable": false,
    "editable": false,
    "nbgrader": {
     "grade": false,
     "locked": true,
     "solution": false
    }
   },
   "source": [
    "You can now test your code with the following interactive word classification script. Use the word 'exit' to stop the program."
   ]
  },
  {
   "cell_type": "code",
   "execution_count": 13,
   "metadata": {
    "scrolled": true
   },
   "outputs": [
    {
     "name": "stdout",
     "output_type": "stream",
     "text": [
      "Loading data ...\n",
      "Training classifier (Smoothing with Laplace estimate) ...\n",
      "Training error (Smoothing with Laplace estimate): 30.38%\n",
      "Test error (Smoothing with Laplace estimate): 29.83%\n",
      "man\n",
      "man, is a german word.\n",
      "\n",
      "woman\n",
      "woman, is an english word.\n",
      "\n",
      "women\n",
      "women, is a german word.\n",
      "\n",
      "happy\n",
      "happy, is an english word.\n",
      "\n",
      "sad\n",
      "sad, is a german word.\n",
      "\n",
      "exit\n",
      "exit, is an english word.\n",
      "\n"
     ]
    }
   ],
   "source": [
    "DIMS = 26\n",
    "print('Loading data ...')\n",
    "X,Y = genFeatures(DIMS, language2features, \"german_train.txt\", \"english_train.txt\")\n",
    "xTe, yTe = genFeatures(26, language2features, \"german_test.txt\", \"english_test.txt\")\n",
    "print('Training classifier (Smoothing with Laplace estimate) ...')\n",
    "w,b=naivebayesCL(X,Y,naivebayesPXY_smoothing)\n",
    "train_error = np.mean(classifyLinear(X,w,b) != Y)\n",
    "test_error = np.mean(classifyLinear(xTe,w,b) != yTe)\n",
    "print('Training error (Smoothing with Laplace estimate): %.2f%%' % (100 * train_error))\n",
    "print('Test error (Smoothing with Laplace estimate): %.2f%%' % (100 * test_error))\n",
    "\n",
    "yourword = \"\"\n",
    "while yourword!=\"exit\":\n",
    "    yourword = input()\n",
    "    if len(yourword) < 1:\n",
    "        break\n",
    "    xtest = language2features(yourword,B=DIMS,LoadFile=False)\n",
    "    pred = classifyLinear(xtest,w,b)[0]\n",
    "    if pred > 0:\n",
    "        print(\"%s, is an english word.\\n\" % yourword)\n",
    "    else:\n",
    "        print(\"%s, is a german word.\\n\" % yourword)"
   ]
  },
  {
   "cell_type": "markdown",
   "metadata": {
    "deletable": false,
    "editable": false,
    "nbgrader": {
     "grade": false,
     "locked": true,
     "solution": false
    }
   },
   "source": [
    "<h3> Feature Extraction</h3>\n",
    "\n",
    "<p> Similar to how we extracted features from words in <code>feature_extraction_letters</code>, we are going to try another way of doing so. This time, instead of mapping a letter to a feature, we will map a pair of letters to a feature. </p>\n",
    "    \n",
    "<p>\n",
    "Every element in the feature vector will represent a pair of letters (e.g. 'aa', 'ab', 'ac'...) and the element representing the pair of letters that occur in the word will be the number of occurence. Make sure your feature vector <b> ordering is alphabetical </b> i.e. ['aa', 'ab', 'ac'.....'ba', 'bb'......'ca','cb'......]. The length of the feature vector will be $26^2 = 676$ to represent all possible pairs of 26 letters. Assume everything is in lower case.\n",
    "</p>\n",
    "\n",
    "<p>\n",
    "Here's an example, for the word 'mama', elements in the feature vector representing 'ma' will be 2, 'am' will be 1. All the other 674 features will be 0.\n",
    "</p>\n",
    "\n",
    "<p>\n",
    "Please modify <code><b>feature_extraction_letters_pairs</b></code> below to implement this feature extraction.\n",
    "</p>"
   ]
  },
  {
   "cell_type": "code",
   "execution_count": 14,
   "metadata": {
    "collapsed": true
   },
   "outputs": [],
   "source": [
    "#<GRADED>\n",
    "def feature_extraction_letters_pairs(word, B=676):\n",
    "    \"\"\"\n",
    "    Feature extration from word for pairs\n",
    "    word: word of the language as a string\n",
    "    \n",
    "    Output:\n",
    "    v : a feature vectors of dimension B=676, (B,)\n",
    "    \"\"\"\n",
    "    v = np.zeros(B)\n",
    "    \n",
    "    ## TODO 7\n",
    "    v = np.zeros(B)\n",
    "    for i in range(len(word)-1):\n",
    "        v[(ord(word[i]) - 97)*26+ord(word[i+1])-97] += 1\n",
    "    return v\n",
    "\n",
    "    ## TODO 7\n",
    "    \n",
    "    return v\n",
    "    \n",
    "def language2features_pairs(filename, B=676, LoadFile=True):\n",
    "    \"\"\"\n",
    "    Output:\n",
    "    X : n feature vectors of dimension B, (nxB)\n",
    "    \"\"\"\n",
    "    if LoadFile:\n",
    "        with open(filename, 'r') as f:\n",
    "            words = [x.rstrip() for x in f.readlines() if len(x) > 0]\n",
    "    else:\n",
    "        words = filename.split('\\n')\n",
    "    n = len(words)\n",
    "    X = np.zeros((n, B))\n",
    "    for i in range(n):\n",
    "        X[i,:] = feature_extraction_letters_pairs(words[i].lower(), B)\n",
    "    return X\n",
    "\n",
    "#</GRADED>"
   ]
  },
  {
   "cell_type": "markdown",
   "metadata": {},
   "source": [
    "You can now test your code with the following interactive word classification script:"
   ]
  },
  {
   "cell_type": "code",
   "execution_count": 15,
   "metadata": {
    "scrolled": false
   },
   "outputs": [
    {
     "name": "stdout",
     "output_type": "stream",
     "text": [
      "Loading data ...\n",
      "Training classifier (Smoothing with Laplace estimate) ...\n",
      "Training error (Smoothing with Laplace estimate): 15.62%\n",
      "Test error (Smoothing with Laplace estimate): 19.08%\n",
      "plane\n",
      "plane, is a german word.\n",
      "\n",
      "aircraft\n",
      "aircraft, is an english word.\n",
      "\n",
      "germany\n",
      "germany, is a german word.\n",
      "\n",
      "exit\n",
      "exit, is a german word.\n",
      "\n"
     ]
    }
   ],
   "source": [
    "''' result of the Naive Bayes classifier using pairs of letters as features '''\n",
    "DIMS = 676\n",
    "print('Loading data ...')\n",
    "Xp,Yp = genFeatures(676, language2features_pairs, \"german_train.txt\", \"english_train.txt\")\n",
    "xTe, yTe = genFeatures(676, language2features_pairs, \"german_test.txt\", \"english_test.txt\")\n",
    "print('Training classifier (Smoothing with Laplace estimate) ...')\n",
    "w,b=naivebayesCL(Xp,Yp,naivebayesPXY_smoothing)\n",
    "train_error = np.mean(classifyLinear(Xp,w,b) != Yp)\n",
    "print('Training error (Smoothing with Laplace estimate): %.2f%%' % (100 * train_error))\n",
    "test_error = np.mean(classifyLinear(xTe,w,b) != yTe)\n",
    "print('Test error (Smoothing with Laplace estimate): %.2f%%' % (100 * test_error))\n",
    "\n",
    "yourword = \"\"\n",
    "while yourword!=\"exit\":\n",
    "    yourword = input()\n",
    "    if len(yourword) < 1:\n",
    "        break\n",
    "    xtest = language2features(yourword,B=DIMS,LoadFile=False)\n",
    "    pred = classifyLinear(xtest,w,b)[0]\n",
    "    if pred > 0:\n",
    "        print(\"%s, is an english word.\\n\" % yourword)\n",
    "    else:\n",
    "        print(\"%s, is a german word.\\n\" % yourword)"
   ]
  },
  {
   "cell_type": "markdown",
   "metadata": {},
   "source": [
    "Why do you think we are not running the naïve Bayes classifier with the __maximum likelihood estimates__ in the previous cell? If you don’t see why, go ahead and try it out."
   ]
  }
 ],
 "metadata": {
  "anaconda-cloud": [],
  "kernel_info": {
   "name": "python3"
  },
  "kernelspec": {
   "display_name": "Python 3 [3.7]",
   "language": "python",
   "name": "python3"
  },
  "language_info": {
   "codemirror_mode": {
    "name": "ipython",
    "version": 3
   },
   "file_extension": ".py",
   "mimetype": "text/x-python",
   "name": "python",
   "nbconvert_exporter": "python",
   "pygments_lexer": "ipython3",
   "version": "3.7.5"
  },
  "nteract": {
   "version": "0.15.0"
  }
 },
 "nbformat": 4,
 "nbformat_minor": 1
}
